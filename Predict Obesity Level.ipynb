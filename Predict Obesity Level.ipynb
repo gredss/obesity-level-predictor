{
  "nbformat": 4,
  "nbformat_minor": 0,
  "metadata": {
    "colab": {
      "provenance": []
    },
    "kernelspec": {
      "name": "python3",
      "display_name": "Python 3"
    },
    "language_info": {
      "name": "python"
    }
  },
  "cells": [
    {
      "cell_type": "markdown",
      "source": [
        "### **Machine Learning Project**\n",
        "\n",
        "\n",
        "> 2702305576 - Grace Esther D. S.\n",
        "\n"
      ],
      "metadata": {
        "id": "dIGfga5G8zRP"
      }
    },
    {
      "cell_type": "markdown",
      "source": [
        "### **Dataset: 1B (Obesity)**\n",
        "\n",
        "#### **Attributes:**\n",
        "- **Gender:** Gender of the individual.\n",
        "- **Birth Date:** The birth date of the individual.\n",
        "- **Height:** The individual’s height (in meters).\n",
        "- **Weight:** The individual's weight (in kilograms).\n",
        "- **Family History with Overweight:** Indicates whether the individual has one or more family members who are overweight.\n",
        "- **High Calorie Meal Frequency:** Indicates whether the individual often consumes high-calorie meals.\n",
        "- **Veggies in Meals Frequency:** The number of times vegetables are consumed in meals daily.\n",
        "- **Daily Main Meals:** The number of main meals consumed per day.\n",
        "- **Snack Frequency:** The frequency of snacks taken daily.\n",
        "- **Smoking:** Indicates whether the individual smokes or not (Yes/No).\n",
        "- **Daily Water Consumption:** The amount of water consumed daily (in liters).\n",
        "- **Weekly Physical Activity:** The average number of physical activities per week.\n",
        "- **Alcohol Consumption:** Frequency of alcohol consumption.\n",
        "- **Transportation:** The most frequently used means of transportation.\n",
        "- **Obesity Level:** The severity of the individual’s obesity.\n",
        "---\n",
        "Expected to predict the obesity level of screened individuals."
      ],
      "metadata": {
        "id": "sbBsa6jwR2po"
      }
    },
    {
      "cell_type": "markdown",
      "source": [
        "# Necessary Library"
      ],
      "metadata": {
        "id": "6hwJ7k3dNJQc"
      }
    },
    {
      "cell_type": "code",
      "execution_count": 72,
      "metadata": {
        "id": "hJa0zmkoLcIe"
      },
      "outputs": [],
      "source": [
        "import pandas as pd\n",
        "import numpy as np\n",
        "import matplotlib.pyplot as plt\n",
        "import seaborn as sns\n",
        "from sklearn.model_selection import train_test_split, learning_curve\n",
        "from sklearn.preprocessing import StandardScaler, LabelEncoder, OneHotEncoder, OrdinalEncoder\n",
        "from sklearn.ensemble import RandomForestClassifier\n",
        "from sklearn.metrics import accuracy_score, classification_report, confusion_matrix, f1_score, ConfusionMatrixDisplay\n",
        "from xgboost import XGBClassifier\n",
        "from sklearn.model_selection import RandomizedSearchCV"
      ]
    },
    {
      "cell_type": "markdown",
      "source": [
        "# A"
      ],
      "metadata": {
        "id": "Qy4lESzzNM4B"
      }
    },
    {
      "cell_type": "markdown",
      "source": [
        " Perform Exploratory Data Analysis (EDA) on the dataset. Identify the key findings and anomalies existing in the dataset. Make sure to handle the anomalies accordingly!"
      ],
      "metadata": {
        "id": "8qhQxQQLTEcj"
      }
    },
    {
      "cell_type": "code",
      "source": [
        "df = pd.read_csv('1B.tsv', delimiter = '\\t')\n",
        "df.head()"
      ],
      "metadata": {
        "colab": {
          "base_uri": "https://localhost:8080/",
          "height": 278
        },
        "id": "b1_Qr0yANPNK",
        "outputId": "db513e68-1c7f-4b94-eb10-86487c8a95f0"
      },
      "execution_count": 73,
      "outputs": [
        {
          "output_type": "execute_result",
          "data": {
            "text/plain": [
              "   Gender  Birth Date  Height Weight family_history_with_overweight  \\\n",
              "0  Female  2003/02/05    1.62   64.0                            yes   \n",
              "1  Female  2003/06/13    1.52   56.0                            yes   \n",
              "2    Male  2001/06/25    1.80   77.0                            yes   \n",
              "3    Male  1997/08/14    1.80   87.0                             no   \n",
              "4    Male  2002/05/14    1.78   89.8                             no   \n",
              "\n",
              "  High Calorie Meal Freq  Veggies in Meals freq  Daily Main Meals  \\\n",
              "0                     no                    2.0               3.0   \n",
              "1                     no                    3.0               3.0   \n",
              "2                     no                    2.0               3.0   \n",
              "3                     no                    3.0               3.0   \n",
              "4                     no                    2.0               1.0   \n",
              "\n",
              "  Snack Frequency Smoking  Daily Water Consumption  Weekly Physical Activity  \\\n",
              "0       Sometimes      no                      2.0                       0.0   \n",
              "1       Sometimes     yes                      3.0                       3.0   \n",
              "2       Sometimes      no                      2.0                       2.0   \n",
              "3       Sometimes      no                      2.0                       2.0   \n",
              "4       Sometimes      no                      2.0                       0.0   \n",
              "\n",
              "      Alcohol         Transportation        Obesity level  \n",
              "0          no  Public_Transportation        Normal_Weight  \n",
              "1   Sometimes  Public_Transportation        Normal_Weight  \n",
              "2  Frequently  Public_Transportation        Normal_Weight  \n",
              "3  Frequently                Walking   Overweight_Level_I  \n",
              "4   Sometimes  Public_Transportation  Overweight_Level_II  "
            ],
            "text/html": [
              "\n",
              "  <div id=\"df-b5530269-946c-436a-8d97-c6461b06bdcf\" class=\"colab-df-container\">\n",
              "    <div>\n",
              "<style scoped>\n",
              "    .dataframe tbody tr th:only-of-type {\n",
              "        vertical-align: middle;\n",
              "    }\n",
              "\n",
              "    .dataframe tbody tr th {\n",
              "        vertical-align: top;\n",
              "    }\n",
              "\n",
              "    .dataframe thead th {\n",
              "        text-align: right;\n",
              "    }\n",
              "</style>\n",
              "<table border=\"1\" class=\"dataframe\">\n",
              "  <thead>\n",
              "    <tr style=\"text-align: right;\">\n",
              "      <th></th>\n",
              "      <th>Gender</th>\n",
              "      <th>Birth Date</th>\n",
              "      <th>Height</th>\n",
              "      <th>Weight</th>\n",
              "      <th>family_history_with_overweight</th>\n",
              "      <th>High Calorie Meal Freq</th>\n",
              "      <th>Veggies in Meals freq</th>\n",
              "      <th>Daily Main Meals</th>\n",
              "      <th>Snack Frequency</th>\n",
              "      <th>Smoking</th>\n",
              "      <th>Daily Water Consumption</th>\n",
              "      <th>Weekly Physical Activity</th>\n",
              "      <th>Alcohol</th>\n",
              "      <th>Transportation</th>\n",
              "      <th>Obesity level</th>\n",
              "    </tr>\n",
              "  </thead>\n",
              "  <tbody>\n",
              "    <tr>\n",
              "      <th>0</th>\n",
              "      <td>Female</td>\n",
              "      <td>2003/02/05</td>\n",
              "      <td>1.62</td>\n",
              "      <td>64.0</td>\n",
              "      <td>yes</td>\n",
              "      <td>no</td>\n",
              "      <td>2.0</td>\n",
              "      <td>3.0</td>\n",
              "      <td>Sometimes</td>\n",
              "      <td>no</td>\n",
              "      <td>2.0</td>\n",
              "      <td>0.0</td>\n",
              "      <td>no</td>\n",
              "      <td>Public_Transportation</td>\n",
              "      <td>Normal_Weight</td>\n",
              "    </tr>\n",
              "    <tr>\n",
              "      <th>1</th>\n",
              "      <td>Female</td>\n",
              "      <td>2003/06/13</td>\n",
              "      <td>1.52</td>\n",
              "      <td>56.0</td>\n",
              "      <td>yes</td>\n",
              "      <td>no</td>\n",
              "      <td>3.0</td>\n",
              "      <td>3.0</td>\n",
              "      <td>Sometimes</td>\n",
              "      <td>yes</td>\n",
              "      <td>3.0</td>\n",
              "      <td>3.0</td>\n",
              "      <td>Sometimes</td>\n",
              "      <td>Public_Transportation</td>\n",
              "      <td>Normal_Weight</td>\n",
              "    </tr>\n",
              "    <tr>\n",
              "      <th>2</th>\n",
              "      <td>Male</td>\n",
              "      <td>2001/06/25</td>\n",
              "      <td>1.80</td>\n",
              "      <td>77.0</td>\n",
              "      <td>yes</td>\n",
              "      <td>no</td>\n",
              "      <td>2.0</td>\n",
              "      <td>3.0</td>\n",
              "      <td>Sometimes</td>\n",
              "      <td>no</td>\n",
              "      <td>2.0</td>\n",
              "      <td>2.0</td>\n",
              "      <td>Frequently</td>\n",
              "      <td>Public_Transportation</td>\n",
              "      <td>Normal_Weight</td>\n",
              "    </tr>\n",
              "    <tr>\n",
              "      <th>3</th>\n",
              "      <td>Male</td>\n",
              "      <td>1997/08/14</td>\n",
              "      <td>1.80</td>\n",
              "      <td>87.0</td>\n",
              "      <td>no</td>\n",
              "      <td>no</td>\n",
              "      <td>3.0</td>\n",
              "      <td>3.0</td>\n",
              "      <td>Sometimes</td>\n",
              "      <td>no</td>\n",
              "      <td>2.0</td>\n",
              "      <td>2.0</td>\n",
              "      <td>Frequently</td>\n",
              "      <td>Walking</td>\n",
              "      <td>Overweight_Level_I</td>\n",
              "    </tr>\n",
              "    <tr>\n",
              "      <th>4</th>\n",
              "      <td>Male</td>\n",
              "      <td>2002/05/14</td>\n",
              "      <td>1.78</td>\n",
              "      <td>89.8</td>\n",
              "      <td>no</td>\n",
              "      <td>no</td>\n",
              "      <td>2.0</td>\n",
              "      <td>1.0</td>\n",
              "      <td>Sometimes</td>\n",
              "      <td>no</td>\n",
              "      <td>2.0</td>\n",
              "      <td>0.0</td>\n",
              "      <td>Sometimes</td>\n",
              "      <td>Public_Transportation</td>\n",
              "      <td>Overweight_Level_II</td>\n",
              "    </tr>\n",
              "  </tbody>\n",
              "</table>\n",
              "</div>\n",
              "    <div class=\"colab-df-buttons\">\n",
              "\n",
              "  <div class=\"colab-df-container\">\n",
              "    <button class=\"colab-df-convert\" onclick=\"convertToInteractive('df-b5530269-946c-436a-8d97-c6461b06bdcf')\"\n",
              "            title=\"Convert this dataframe to an interactive table.\"\n",
              "            style=\"display:none;\">\n",
              "\n",
              "  <svg xmlns=\"http://www.w3.org/2000/svg\" height=\"24px\" viewBox=\"0 -960 960 960\">\n",
              "    <path d=\"M120-120v-720h720v720H120Zm60-500h600v-160H180v160Zm220 220h160v-160H400v160Zm0 220h160v-160H400v160ZM180-400h160v-160H180v160Zm440 0h160v-160H620v160ZM180-180h160v-160H180v160Zm440 0h160v-160H620v160Z\"/>\n",
              "  </svg>\n",
              "    </button>\n",
              "\n",
              "  <style>\n",
              "    .colab-df-container {\n",
              "      display:flex;\n",
              "      gap: 12px;\n",
              "    }\n",
              "\n",
              "    .colab-df-convert {\n",
              "      background-color: #E8F0FE;\n",
              "      border: none;\n",
              "      border-radius: 50%;\n",
              "      cursor: pointer;\n",
              "      display: none;\n",
              "      fill: #1967D2;\n",
              "      height: 32px;\n",
              "      padding: 0 0 0 0;\n",
              "      width: 32px;\n",
              "    }\n",
              "\n",
              "    .colab-df-convert:hover {\n",
              "      background-color: #E2EBFA;\n",
              "      box-shadow: 0px 1px 2px rgba(60, 64, 67, 0.3), 0px 1px 3px 1px rgba(60, 64, 67, 0.15);\n",
              "      fill: #174EA6;\n",
              "    }\n",
              "\n",
              "    .colab-df-buttons div {\n",
              "      margin-bottom: 4px;\n",
              "    }\n",
              "\n",
              "    [theme=dark] .colab-df-convert {\n",
              "      background-color: #3B4455;\n",
              "      fill: #D2E3FC;\n",
              "    }\n",
              "\n",
              "    [theme=dark] .colab-df-convert:hover {\n",
              "      background-color: #434B5C;\n",
              "      box-shadow: 0px 1px 3px 1px rgba(0, 0, 0, 0.15);\n",
              "      filter: drop-shadow(0px 1px 2px rgba(0, 0, 0, 0.3));\n",
              "      fill: #FFFFFF;\n",
              "    }\n",
              "  </style>\n",
              "\n",
              "    <script>\n",
              "      const buttonEl =\n",
              "        document.querySelector('#df-b5530269-946c-436a-8d97-c6461b06bdcf button.colab-df-convert');\n",
              "      buttonEl.style.display =\n",
              "        google.colab.kernel.accessAllowed ? 'block' : 'none';\n",
              "\n",
              "      async function convertToInteractive(key) {\n",
              "        const element = document.querySelector('#df-b5530269-946c-436a-8d97-c6461b06bdcf');\n",
              "        const dataTable =\n",
              "          await google.colab.kernel.invokeFunction('convertToInteractive',\n",
              "                                                    [key], {});\n",
              "        if (!dataTable) return;\n",
              "\n",
              "        const docLinkHtml = 'Like what you see? Visit the ' +\n",
              "          '<a target=\"_blank\" href=https://colab.research.google.com/notebooks/data_table.ipynb>data table notebook</a>'\n",
              "          + ' to learn more about interactive tables.';\n",
              "        element.innerHTML = '';\n",
              "        dataTable['output_type'] = 'display_data';\n",
              "        await google.colab.output.renderOutput(dataTable, element);\n",
              "        const docLink = document.createElement('div');\n",
              "        docLink.innerHTML = docLinkHtml;\n",
              "        element.appendChild(docLink);\n",
              "      }\n",
              "    </script>\n",
              "  </div>\n",
              "\n",
              "\n",
              "<div id=\"df-bbe58b2f-e0be-489d-b078-9f9798e8bdb4\">\n",
              "  <button class=\"colab-df-quickchart\" onclick=\"quickchart('df-bbe58b2f-e0be-489d-b078-9f9798e8bdb4')\"\n",
              "            title=\"Suggest charts\"\n",
              "            style=\"display:none;\">\n",
              "\n",
              "<svg xmlns=\"http://www.w3.org/2000/svg\" height=\"24px\"viewBox=\"0 0 24 24\"\n",
              "     width=\"24px\">\n",
              "    <g>\n",
              "        <path d=\"M19 3H5c-1.1 0-2 .9-2 2v14c0 1.1.9 2 2 2h14c1.1 0 2-.9 2-2V5c0-1.1-.9-2-2-2zM9 17H7v-7h2v7zm4 0h-2V7h2v10zm4 0h-2v-4h2v4z\"/>\n",
              "    </g>\n",
              "</svg>\n",
              "  </button>\n",
              "\n",
              "<style>\n",
              "  .colab-df-quickchart {\n",
              "      --bg-color: #E8F0FE;\n",
              "      --fill-color: #1967D2;\n",
              "      --hover-bg-color: #E2EBFA;\n",
              "      --hover-fill-color: #174EA6;\n",
              "      --disabled-fill-color: #AAA;\n",
              "      --disabled-bg-color: #DDD;\n",
              "  }\n",
              "\n",
              "  [theme=dark] .colab-df-quickchart {\n",
              "      --bg-color: #3B4455;\n",
              "      --fill-color: #D2E3FC;\n",
              "      --hover-bg-color: #434B5C;\n",
              "      --hover-fill-color: #FFFFFF;\n",
              "      --disabled-bg-color: #3B4455;\n",
              "      --disabled-fill-color: #666;\n",
              "  }\n",
              "\n",
              "  .colab-df-quickchart {\n",
              "    background-color: var(--bg-color);\n",
              "    border: none;\n",
              "    border-radius: 50%;\n",
              "    cursor: pointer;\n",
              "    display: none;\n",
              "    fill: var(--fill-color);\n",
              "    height: 32px;\n",
              "    padding: 0;\n",
              "    width: 32px;\n",
              "  }\n",
              "\n",
              "  .colab-df-quickchart:hover {\n",
              "    background-color: var(--hover-bg-color);\n",
              "    box-shadow: 0 1px 2px rgba(60, 64, 67, 0.3), 0 1px 3px 1px rgba(60, 64, 67, 0.15);\n",
              "    fill: var(--button-hover-fill-color);\n",
              "  }\n",
              "\n",
              "  .colab-df-quickchart-complete:disabled,\n",
              "  .colab-df-quickchart-complete:disabled:hover {\n",
              "    background-color: var(--disabled-bg-color);\n",
              "    fill: var(--disabled-fill-color);\n",
              "    box-shadow: none;\n",
              "  }\n",
              "\n",
              "  .colab-df-spinner {\n",
              "    border: 2px solid var(--fill-color);\n",
              "    border-color: transparent;\n",
              "    border-bottom-color: var(--fill-color);\n",
              "    animation:\n",
              "      spin 1s steps(1) infinite;\n",
              "  }\n",
              "\n",
              "  @keyframes spin {\n",
              "    0% {\n",
              "      border-color: transparent;\n",
              "      border-bottom-color: var(--fill-color);\n",
              "      border-left-color: var(--fill-color);\n",
              "    }\n",
              "    20% {\n",
              "      border-color: transparent;\n",
              "      border-left-color: var(--fill-color);\n",
              "      border-top-color: var(--fill-color);\n",
              "    }\n",
              "    30% {\n",
              "      border-color: transparent;\n",
              "      border-left-color: var(--fill-color);\n",
              "      border-top-color: var(--fill-color);\n",
              "      border-right-color: var(--fill-color);\n",
              "    }\n",
              "    40% {\n",
              "      border-color: transparent;\n",
              "      border-right-color: var(--fill-color);\n",
              "      border-top-color: var(--fill-color);\n",
              "    }\n",
              "    60% {\n",
              "      border-color: transparent;\n",
              "      border-right-color: var(--fill-color);\n",
              "    }\n",
              "    80% {\n",
              "      border-color: transparent;\n",
              "      border-right-color: var(--fill-color);\n",
              "      border-bottom-color: var(--fill-color);\n",
              "    }\n",
              "    90% {\n",
              "      border-color: transparent;\n",
              "      border-bottom-color: var(--fill-color);\n",
              "    }\n",
              "  }\n",
              "</style>\n",
              "\n",
              "  <script>\n",
              "    async function quickchart(key) {\n",
              "      const quickchartButtonEl =\n",
              "        document.querySelector('#' + key + ' button');\n",
              "      quickchartButtonEl.disabled = true;  // To prevent multiple clicks.\n",
              "      quickchartButtonEl.classList.add('colab-df-spinner');\n",
              "      try {\n",
              "        const charts = await google.colab.kernel.invokeFunction(\n",
              "            'suggestCharts', [key], {});\n",
              "      } catch (error) {\n",
              "        console.error('Error during call to suggestCharts:', error);\n",
              "      }\n",
              "      quickchartButtonEl.classList.remove('colab-df-spinner');\n",
              "      quickchartButtonEl.classList.add('colab-df-quickchart-complete');\n",
              "    }\n",
              "    (() => {\n",
              "      let quickchartButtonEl =\n",
              "        document.querySelector('#df-bbe58b2f-e0be-489d-b078-9f9798e8bdb4 button');\n",
              "      quickchartButtonEl.style.display =\n",
              "        google.colab.kernel.accessAllowed ? 'block' : 'none';\n",
              "    })();\n",
              "  </script>\n",
              "</div>\n",
              "\n",
              "    </div>\n",
              "  </div>\n"
            ],
            "application/vnd.google.colaboratory.intrinsic+json": {
              "type": "dataframe",
              "variable_name": "df",
              "summary": "{\n  \"name\": \"df\",\n  \"rows\": 2111,\n  \"fields\": [\n    {\n      \"column\": \"Gender\",\n      \"properties\": {\n        \"dtype\": \"category\",\n        \"num_unique_values\": 2,\n        \"samples\": [\n          \"Male\",\n          \"Female\"\n        ],\n        \"semantic_type\": \"\",\n        \"description\": \"\"\n      }\n    },\n    {\n      \"column\": \"Birth Date\",\n      \"properties\": {\n        \"dtype\": \"object\",\n        \"num_unique_values\": 1730,\n        \"samples\": [\n          \"2000/09/16\",\n          \"2002/12/13\"\n        ],\n        \"semantic_type\": \"\",\n        \"description\": \"\"\n      }\n    },\n    {\n      \"column\": \"Height\",\n      \"properties\": {\n        \"dtype\": \"number\",\n        \"std\": 0.09330481986792,\n        \"min\": 1.45,\n        \"max\": 1.98,\n        \"num_unique_values\": 1574,\n        \"samples\": [\n          1.760175,\n          1.688436\n        ],\n        \"semantic_type\": \"\",\n        \"description\": \"\"\n      }\n    },\n    {\n      \"column\": \"Weight\",\n      \"properties\": {\n        \"dtype\": \"string\",\n        \"num_unique_values\": 1525,\n        \"samples\": [\n          \"120.702935\",\n          \"64.4\"\n        ],\n        \"semantic_type\": \"\",\n        \"description\": \"\"\n      }\n    },\n    {\n      \"column\": \"family_history_with_overweight\",\n      \"properties\": {\n        \"dtype\": \"category\",\n        \"num_unique_values\": 2,\n        \"samples\": [\n          \"no\",\n          \"yes\"\n        ],\n        \"semantic_type\": \"\",\n        \"description\": \"\"\n      }\n    },\n    {\n      \"column\": \"High Calorie Meal Freq\",\n      \"properties\": {\n        \"dtype\": \"category\",\n        \"num_unique_values\": 2,\n        \"samples\": [\n          \"yes\",\n          \"no\"\n        ],\n        \"semantic_type\": \"\",\n        \"description\": \"\"\n      }\n    },\n    {\n      \"column\": \"Veggies in Meals freq\",\n      \"properties\": {\n        \"dtype\": \"number\",\n        \"std\": 0.5339265785033023,\n        \"min\": 1.0,\n        \"max\": 3.0,\n        \"num_unique_values\": 810,\n        \"samples\": [\n          2.987148,\n          2.939727\n        ],\n        \"semantic_type\": \"\",\n        \"description\": \"\"\n      }\n    },\n    {\n      \"column\": \"Daily Main Meals\",\n      \"properties\": {\n        \"dtype\": \"number\",\n        \"std\": 0.7780386488418594,\n        \"min\": 1.0,\n        \"max\": 4.0,\n        \"num_unique_values\": 635,\n        \"samples\": [\n          1.468948,\n          2.9948\n        ],\n        \"semantic_type\": \"\",\n        \"description\": \"\"\n      }\n    },\n    {\n      \"column\": \"Snack Frequency\",\n      \"properties\": {\n        \"dtype\": \"category\",\n        \"num_unique_values\": 4,\n        \"samples\": [\n          \"Frequently\",\n          \"no\"\n        ],\n        \"semantic_type\": \"\",\n        \"description\": \"\"\n      }\n    },\n    {\n      \"column\": \"Smoking\",\n      \"properties\": {\n        \"dtype\": \"category\",\n        \"num_unique_values\": 3,\n        \"samples\": [\n          \"no\",\n          \"yes\"\n        ],\n        \"semantic_type\": \"\",\n        \"description\": \"\"\n      }\n    },\n    {\n      \"column\": \"Daily Water Consumption\",\n      \"properties\": {\n        \"dtype\": \"number\",\n        \"std\": 0.6129534517968702,\n        \"min\": 1.0,\n        \"max\": 3.0,\n        \"num_unique_values\": 1268,\n        \"samples\": [\n          2.395387,\n          1.983973\n        ],\n        \"semantic_type\": \"\",\n        \"description\": \"\"\n      }\n    },\n    {\n      \"column\": \"Weekly Physical Activity\",\n      \"properties\": {\n        \"dtype\": \"number\",\n        \"std\": 0.8505924308367011,\n        \"min\": 0.0,\n        \"max\": 3.0,\n        \"num_unique_values\": 1190,\n        \"samples\": [\n          1.655488,\n          2.433918\n        ],\n        \"semantic_type\": \"\",\n        \"description\": \"\"\n      }\n    },\n    {\n      \"column\": \"Alcohol\",\n      \"properties\": {\n        \"dtype\": \"category\",\n        \"num_unique_values\": 4,\n        \"samples\": [\n          \"Sometimes\",\n          \"Always\"\n        ],\n        \"semantic_type\": \"\",\n        \"description\": \"\"\n      }\n    },\n    {\n      \"column\": \"Transportation\",\n      \"properties\": {\n        \"dtype\": \"category\",\n        \"num_unique_values\": 5,\n        \"samples\": [\n          \"Walking\",\n          \"Bike\"\n        ],\n        \"semantic_type\": \"\",\n        \"description\": \"\"\n      }\n    },\n    {\n      \"column\": \"Obesity level\",\n      \"properties\": {\n        \"dtype\": \"category\",\n        \"num_unique_values\": 7,\n        \"samples\": [\n          \"Normal_Weight\",\n          \"Overweight_Level_I\"\n        ],\n        \"semantic_type\": \"\",\n        \"description\": \"\"\n      }\n    }\n  ]\n}"
            }
          },
          "metadata": {},
          "execution_count": 73
        }
      ]
    },
    {
      "cell_type": "code",
      "source": [
        "df.info()"
      ],
      "metadata": {
        "colab": {
          "base_uri": "https://localhost:8080/"
        },
        "id": "3wxflFLrOvP4",
        "outputId": "40982a7c-1017-4a48-e3f6-667c6b2bcb7d"
      },
      "execution_count": 74,
      "outputs": [
        {
          "output_type": "stream",
          "name": "stdout",
          "text": [
            "<class 'pandas.core.frame.DataFrame'>\n",
            "RangeIndex: 2111 entries, 0 to 2110\n",
            "Data columns (total 15 columns):\n",
            " #   Column                          Non-Null Count  Dtype  \n",
            "---  ------                          --------------  -----  \n",
            " 0   Gender                          2111 non-null   object \n",
            " 1   Birth Date                      2111 non-null   object \n",
            " 2   Height                          2111 non-null   float64\n",
            " 3   Weight                          2111 non-null   object \n",
            " 4   family_history_with_overweight  2111 non-null   object \n",
            " 5   High Calorie Meal Freq          2111 non-null   object \n",
            " 6   Veggies in Meals freq           2111 non-null   float64\n",
            " 7   Daily Main Meals                2111 non-null   float64\n",
            " 8   Snack Frequency                 2101 non-null   object \n",
            " 9   Smoking                         2111 non-null   object \n",
            " 10  Daily Water Consumption         2111 non-null   float64\n",
            " 11  Weekly Physical Activity        2111 non-null   float64\n",
            " 12  Alcohol                         2111 non-null   object \n",
            " 13  Transportation                  2111 non-null   object \n",
            " 14  Obesity level                   2111 non-null   object \n",
            "dtypes: float64(5), object(10)\n",
            "memory usage: 247.5+ KB\n"
          ]
        }
      ]
    },
    {
      "cell_type": "code",
      "source": [
        "df['Weight'] = pd.to_numeric(df['Weight'], errors='coerce')"
      ],
      "metadata": {
        "id": "kUHUUWPoWqrL"
      },
      "execution_count": 75,
      "outputs": []
    },
    {
      "cell_type": "code",
      "source": [
        "df['BMI'] = df['Weight'] / (df['Height'] ** 2)"
      ],
      "metadata": {
        "id": "UaubMG38Yp1X"
      },
      "execution_count": 76,
      "outputs": []
    },
    {
      "cell_type": "markdown",
      "source": [
        "**Key Findings**, based on the dataset attributes, the following features are likely necessary to predict obesity levels:\n",
        "\n",
        "\n",
        "*   Family Obesity History: Represents genetic predisposition to obesity\n",
        "*   High Calorie Meal Freq: Reflects eating habits that promote weight gain\n",
        "*   Daily Water Consumption: Water turnover rates increase with BMI\n",
        "*   Weekly Physical Activity: Indicates energy expenditure\n",
        "*   BMI: Directly related to weight and height, a key obesity indicator"
      ],
      "metadata": {
        "id": "_Q_STR1UgTI_"
      }
    },
    {
      "cell_type": "code",
      "source": [
        "df = df.drop(['Gender', 'Birth Date','Height', 'Weight', 'Veggies in Meals freq', 'Daily Main Meals', 'Snack Frequency', 'Smoking', 'Alcohol', 'Transportation'], axis=1)"
      ],
      "metadata": {
        "id": "GoqgSS-EZBnd"
      },
      "execution_count": 77,
      "outputs": []
    },
    {
      "cell_type": "code",
      "source": [
        "df = df.rename(columns={\"family_history_with_overweight\": \"Family Obesity History\"})"
      ],
      "metadata": {
        "id": "IDRyuqb8hAmN"
      },
      "execution_count": 78,
      "outputs": []
    },
    {
      "cell_type": "code",
      "source": [
        "df.describe()"
      ],
      "metadata": {
        "colab": {
          "base_uri": "https://localhost:8080/",
          "height": 300
        },
        "id": "pQSiMqTsOvHY",
        "outputId": "75efac88-8c43-49d5-c97b-5863cf28b914"
      },
      "execution_count": 79,
      "outputs": [
        {
          "output_type": "execute_result",
          "data": {
            "text/plain": [
              "       Daily Water Consumption  Weekly Physical Activity          BMI\n",
              "count              2111.000000               2111.000000  2052.000000\n",
              "mean                  2.008011                  1.010298    29.720786\n",
              "std                   0.612953                  0.850592     8.110035\n",
              "min                   1.000000                  0.000000    12.998685\n",
              "25%                   1.584812                  0.124505    24.221453\n",
              "50%                   2.000000                  1.000000    28.699882\n",
              "75%                   2.477420                  1.666678    36.144318\n",
              "max                   3.000000                  3.000000    50.811753"
            ],
            "text/html": [
              "\n",
              "  <div id=\"df-611bf4c7-05f4-4c5d-909d-0a4eede76df9\" class=\"colab-df-container\">\n",
              "    <div>\n",
              "<style scoped>\n",
              "    .dataframe tbody tr th:only-of-type {\n",
              "        vertical-align: middle;\n",
              "    }\n",
              "\n",
              "    .dataframe tbody tr th {\n",
              "        vertical-align: top;\n",
              "    }\n",
              "\n",
              "    .dataframe thead th {\n",
              "        text-align: right;\n",
              "    }\n",
              "</style>\n",
              "<table border=\"1\" class=\"dataframe\">\n",
              "  <thead>\n",
              "    <tr style=\"text-align: right;\">\n",
              "      <th></th>\n",
              "      <th>Daily Water Consumption</th>\n",
              "      <th>Weekly Physical Activity</th>\n",
              "      <th>BMI</th>\n",
              "    </tr>\n",
              "  </thead>\n",
              "  <tbody>\n",
              "    <tr>\n",
              "      <th>count</th>\n",
              "      <td>2111.000000</td>\n",
              "      <td>2111.000000</td>\n",
              "      <td>2052.000000</td>\n",
              "    </tr>\n",
              "    <tr>\n",
              "      <th>mean</th>\n",
              "      <td>2.008011</td>\n",
              "      <td>1.010298</td>\n",
              "      <td>29.720786</td>\n",
              "    </tr>\n",
              "    <tr>\n",
              "      <th>std</th>\n",
              "      <td>0.612953</td>\n",
              "      <td>0.850592</td>\n",
              "      <td>8.110035</td>\n",
              "    </tr>\n",
              "    <tr>\n",
              "      <th>min</th>\n",
              "      <td>1.000000</td>\n",
              "      <td>0.000000</td>\n",
              "      <td>12.998685</td>\n",
              "    </tr>\n",
              "    <tr>\n",
              "      <th>25%</th>\n",
              "      <td>1.584812</td>\n",
              "      <td>0.124505</td>\n",
              "      <td>24.221453</td>\n",
              "    </tr>\n",
              "    <tr>\n",
              "      <th>50%</th>\n",
              "      <td>2.000000</td>\n",
              "      <td>1.000000</td>\n",
              "      <td>28.699882</td>\n",
              "    </tr>\n",
              "    <tr>\n",
              "      <th>75%</th>\n",
              "      <td>2.477420</td>\n",
              "      <td>1.666678</td>\n",
              "      <td>36.144318</td>\n",
              "    </tr>\n",
              "    <tr>\n",
              "      <th>max</th>\n",
              "      <td>3.000000</td>\n",
              "      <td>3.000000</td>\n",
              "      <td>50.811753</td>\n",
              "    </tr>\n",
              "  </tbody>\n",
              "</table>\n",
              "</div>\n",
              "    <div class=\"colab-df-buttons\">\n",
              "\n",
              "  <div class=\"colab-df-container\">\n",
              "    <button class=\"colab-df-convert\" onclick=\"convertToInteractive('df-611bf4c7-05f4-4c5d-909d-0a4eede76df9')\"\n",
              "            title=\"Convert this dataframe to an interactive table.\"\n",
              "            style=\"display:none;\">\n",
              "\n",
              "  <svg xmlns=\"http://www.w3.org/2000/svg\" height=\"24px\" viewBox=\"0 -960 960 960\">\n",
              "    <path d=\"M120-120v-720h720v720H120Zm60-500h600v-160H180v160Zm220 220h160v-160H400v160Zm0 220h160v-160H400v160ZM180-400h160v-160H180v160Zm440 0h160v-160H620v160ZM180-180h160v-160H180v160Zm440 0h160v-160H620v160Z\"/>\n",
              "  </svg>\n",
              "    </button>\n",
              "\n",
              "  <style>\n",
              "    .colab-df-container {\n",
              "      display:flex;\n",
              "      gap: 12px;\n",
              "    }\n",
              "\n",
              "    .colab-df-convert {\n",
              "      background-color: #E8F0FE;\n",
              "      border: none;\n",
              "      border-radius: 50%;\n",
              "      cursor: pointer;\n",
              "      display: none;\n",
              "      fill: #1967D2;\n",
              "      height: 32px;\n",
              "      padding: 0 0 0 0;\n",
              "      width: 32px;\n",
              "    }\n",
              "\n",
              "    .colab-df-convert:hover {\n",
              "      background-color: #E2EBFA;\n",
              "      box-shadow: 0px 1px 2px rgba(60, 64, 67, 0.3), 0px 1px 3px 1px rgba(60, 64, 67, 0.15);\n",
              "      fill: #174EA6;\n",
              "    }\n",
              "\n",
              "    .colab-df-buttons div {\n",
              "      margin-bottom: 4px;\n",
              "    }\n",
              "\n",
              "    [theme=dark] .colab-df-convert {\n",
              "      background-color: #3B4455;\n",
              "      fill: #D2E3FC;\n",
              "    }\n",
              "\n",
              "    [theme=dark] .colab-df-convert:hover {\n",
              "      background-color: #434B5C;\n",
              "      box-shadow: 0px 1px 3px 1px rgba(0, 0, 0, 0.15);\n",
              "      filter: drop-shadow(0px 1px 2px rgba(0, 0, 0, 0.3));\n",
              "      fill: #FFFFFF;\n",
              "    }\n",
              "  </style>\n",
              "\n",
              "    <script>\n",
              "      const buttonEl =\n",
              "        document.querySelector('#df-611bf4c7-05f4-4c5d-909d-0a4eede76df9 button.colab-df-convert');\n",
              "      buttonEl.style.display =\n",
              "        google.colab.kernel.accessAllowed ? 'block' : 'none';\n",
              "\n",
              "      async function convertToInteractive(key) {\n",
              "        const element = document.querySelector('#df-611bf4c7-05f4-4c5d-909d-0a4eede76df9');\n",
              "        const dataTable =\n",
              "          await google.colab.kernel.invokeFunction('convertToInteractive',\n",
              "                                                    [key], {});\n",
              "        if (!dataTable) return;\n",
              "\n",
              "        const docLinkHtml = 'Like what you see? Visit the ' +\n",
              "          '<a target=\"_blank\" href=https://colab.research.google.com/notebooks/data_table.ipynb>data table notebook</a>'\n",
              "          + ' to learn more about interactive tables.';\n",
              "        element.innerHTML = '';\n",
              "        dataTable['output_type'] = 'display_data';\n",
              "        await google.colab.output.renderOutput(dataTable, element);\n",
              "        const docLink = document.createElement('div');\n",
              "        docLink.innerHTML = docLinkHtml;\n",
              "        element.appendChild(docLink);\n",
              "      }\n",
              "    </script>\n",
              "  </div>\n",
              "\n",
              "\n",
              "<div id=\"df-8819c791-43ac-4d82-86c5-90513b497a6b\">\n",
              "  <button class=\"colab-df-quickchart\" onclick=\"quickchart('df-8819c791-43ac-4d82-86c5-90513b497a6b')\"\n",
              "            title=\"Suggest charts\"\n",
              "            style=\"display:none;\">\n",
              "\n",
              "<svg xmlns=\"http://www.w3.org/2000/svg\" height=\"24px\"viewBox=\"0 0 24 24\"\n",
              "     width=\"24px\">\n",
              "    <g>\n",
              "        <path d=\"M19 3H5c-1.1 0-2 .9-2 2v14c0 1.1.9 2 2 2h14c1.1 0 2-.9 2-2V5c0-1.1-.9-2-2-2zM9 17H7v-7h2v7zm4 0h-2V7h2v10zm4 0h-2v-4h2v4z\"/>\n",
              "    </g>\n",
              "</svg>\n",
              "  </button>\n",
              "\n",
              "<style>\n",
              "  .colab-df-quickchart {\n",
              "      --bg-color: #E8F0FE;\n",
              "      --fill-color: #1967D2;\n",
              "      --hover-bg-color: #E2EBFA;\n",
              "      --hover-fill-color: #174EA6;\n",
              "      --disabled-fill-color: #AAA;\n",
              "      --disabled-bg-color: #DDD;\n",
              "  }\n",
              "\n",
              "  [theme=dark] .colab-df-quickchart {\n",
              "      --bg-color: #3B4455;\n",
              "      --fill-color: #D2E3FC;\n",
              "      --hover-bg-color: #434B5C;\n",
              "      --hover-fill-color: #FFFFFF;\n",
              "      --disabled-bg-color: #3B4455;\n",
              "      --disabled-fill-color: #666;\n",
              "  }\n",
              "\n",
              "  .colab-df-quickchart {\n",
              "    background-color: var(--bg-color);\n",
              "    border: none;\n",
              "    border-radius: 50%;\n",
              "    cursor: pointer;\n",
              "    display: none;\n",
              "    fill: var(--fill-color);\n",
              "    height: 32px;\n",
              "    padding: 0;\n",
              "    width: 32px;\n",
              "  }\n",
              "\n",
              "  .colab-df-quickchart:hover {\n",
              "    background-color: var(--hover-bg-color);\n",
              "    box-shadow: 0 1px 2px rgba(60, 64, 67, 0.3), 0 1px 3px 1px rgba(60, 64, 67, 0.15);\n",
              "    fill: var(--button-hover-fill-color);\n",
              "  }\n",
              "\n",
              "  .colab-df-quickchart-complete:disabled,\n",
              "  .colab-df-quickchart-complete:disabled:hover {\n",
              "    background-color: var(--disabled-bg-color);\n",
              "    fill: var(--disabled-fill-color);\n",
              "    box-shadow: none;\n",
              "  }\n",
              "\n",
              "  .colab-df-spinner {\n",
              "    border: 2px solid var(--fill-color);\n",
              "    border-color: transparent;\n",
              "    border-bottom-color: var(--fill-color);\n",
              "    animation:\n",
              "      spin 1s steps(1) infinite;\n",
              "  }\n",
              "\n",
              "  @keyframes spin {\n",
              "    0% {\n",
              "      border-color: transparent;\n",
              "      border-bottom-color: var(--fill-color);\n",
              "      border-left-color: var(--fill-color);\n",
              "    }\n",
              "    20% {\n",
              "      border-color: transparent;\n",
              "      border-left-color: var(--fill-color);\n",
              "      border-top-color: var(--fill-color);\n",
              "    }\n",
              "    30% {\n",
              "      border-color: transparent;\n",
              "      border-left-color: var(--fill-color);\n",
              "      border-top-color: var(--fill-color);\n",
              "      border-right-color: var(--fill-color);\n",
              "    }\n",
              "    40% {\n",
              "      border-color: transparent;\n",
              "      border-right-color: var(--fill-color);\n",
              "      border-top-color: var(--fill-color);\n",
              "    }\n",
              "    60% {\n",
              "      border-color: transparent;\n",
              "      border-right-color: var(--fill-color);\n",
              "    }\n",
              "    80% {\n",
              "      border-color: transparent;\n",
              "      border-right-color: var(--fill-color);\n",
              "      border-bottom-color: var(--fill-color);\n",
              "    }\n",
              "    90% {\n",
              "      border-color: transparent;\n",
              "      border-bottom-color: var(--fill-color);\n",
              "    }\n",
              "  }\n",
              "</style>\n",
              "\n",
              "  <script>\n",
              "    async function quickchart(key) {\n",
              "      const quickchartButtonEl =\n",
              "        document.querySelector('#' + key + ' button');\n",
              "      quickchartButtonEl.disabled = true;  // To prevent multiple clicks.\n",
              "      quickchartButtonEl.classList.add('colab-df-spinner');\n",
              "      try {\n",
              "        const charts = await google.colab.kernel.invokeFunction(\n",
              "            'suggestCharts', [key], {});\n",
              "      } catch (error) {\n",
              "        console.error('Error during call to suggestCharts:', error);\n",
              "      }\n",
              "      quickchartButtonEl.classList.remove('colab-df-spinner');\n",
              "      quickchartButtonEl.classList.add('colab-df-quickchart-complete');\n",
              "    }\n",
              "    (() => {\n",
              "      let quickchartButtonEl =\n",
              "        document.querySelector('#df-8819c791-43ac-4d82-86c5-90513b497a6b button');\n",
              "      quickchartButtonEl.style.display =\n",
              "        google.colab.kernel.accessAllowed ? 'block' : 'none';\n",
              "    })();\n",
              "  </script>\n",
              "</div>\n",
              "\n",
              "    </div>\n",
              "  </div>\n"
            ],
            "application/vnd.google.colaboratory.intrinsic+json": {
              "type": "dataframe",
              "summary": "{\n  \"name\": \"df\",\n  \"rows\": 8,\n  \"fields\": [\n    {\n      \"column\": \"Daily Water Consumption\",\n      \"properties\": {\n        \"dtype\": \"number\",\n        \"std\": 745.7109998154965,\n        \"min\": 0.6129534517968702,\n        \"max\": 2111.0,\n        \"num_unique_values\": 8,\n        \"samples\": [\n          2.0080114040738986,\n          2.0,\n          2111.0\n        ],\n        \"semantic_type\": \"\",\n        \"description\": \"\"\n      }\n    },\n    {\n      \"column\": \"Weekly Physical Activity\",\n      \"properties\": {\n        \"dtype\": \"number\",\n        \"std\": 745.9653105606202,\n        \"min\": 0.0,\n        \"max\": 2111.0,\n        \"num_unique_values\": 8,\n        \"samples\": [\n          1.0102976958787304,\n          1.0,\n          2111.0\n        ],\n        \"semantic_type\": \"\",\n        \"description\": \"\"\n      }\n    },\n    {\n      \"column\": \"BMI\",\n      \"properties\": {\n        \"dtype\": \"number\",\n        \"std\": 715.981233257763,\n        \"min\": 8.110034556418826,\n        \"max\": 2052.0,\n        \"num_unique_values\": 8,\n        \"samples\": [\n          29.72078624998531,\n          28.69988238023542,\n          2052.0\n        ],\n        \"semantic_type\": \"\",\n        \"description\": \"\"\n      }\n    }\n  ]\n}"
            }
          },
          "metadata": {},
          "execution_count": 79
        }
      ]
    },
    {
      "cell_type": "code",
      "source": [
        "df.duplicated().sum()\n",
        "df = df.drop_duplicates(keep=\"first\")"
      ],
      "metadata": {
        "id": "kpUkSbnkOu3Q"
      },
      "execution_count": 80,
      "outputs": []
    },
    {
      "cell_type": "code",
      "source": [
        "df.isnull().sum()\n",
        "df = df.dropna()"
      ],
      "metadata": {
        "id": "0ixzRKPdOuz0"
      },
      "execution_count": 81,
      "outputs": []
    },
    {
      "cell_type": "code",
      "source": [
        "df.head()"
      ],
      "metadata": {
        "colab": {
          "base_uri": "https://localhost:8080/",
          "height": 206
        },
        "id": "xyy_5y00d8LK",
        "outputId": "f394639b-4cc6-437f-800c-a11a870fe259"
      },
      "execution_count": 82,
      "outputs": [
        {
          "output_type": "execute_result",
          "data": {
            "text/plain": [
              "  Family Obesity History High Calorie Meal Freq  Daily Water Consumption  \\\n",
              "0                    yes                     no                      2.0   \n",
              "1                    yes                     no                      3.0   \n",
              "2                    yes                     no                      2.0   \n",
              "3                     no                     no                      2.0   \n",
              "4                     no                     no                      2.0   \n",
              "\n",
              "   Weekly Physical Activity        Obesity level        BMI  \n",
              "0                       0.0        Normal_Weight  24.386526  \n",
              "1                       3.0        Normal_Weight  24.238227  \n",
              "2                       2.0        Normal_Weight  23.765432  \n",
              "3                       2.0   Overweight_Level_I  26.851852  \n",
              "4                       0.0  Overweight_Level_II  28.342381  "
            ],
            "text/html": [
              "\n",
              "  <div id=\"df-76c916f3-8eca-49d8-8eff-7cfe46cb4ca7\" class=\"colab-df-container\">\n",
              "    <div>\n",
              "<style scoped>\n",
              "    .dataframe tbody tr th:only-of-type {\n",
              "        vertical-align: middle;\n",
              "    }\n",
              "\n",
              "    .dataframe tbody tr th {\n",
              "        vertical-align: top;\n",
              "    }\n",
              "\n",
              "    .dataframe thead th {\n",
              "        text-align: right;\n",
              "    }\n",
              "</style>\n",
              "<table border=\"1\" class=\"dataframe\">\n",
              "  <thead>\n",
              "    <tr style=\"text-align: right;\">\n",
              "      <th></th>\n",
              "      <th>Family Obesity History</th>\n",
              "      <th>High Calorie Meal Freq</th>\n",
              "      <th>Daily Water Consumption</th>\n",
              "      <th>Weekly Physical Activity</th>\n",
              "      <th>Obesity level</th>\n",
              "      <th>BMI</th>\n",
              "    </tr>\n",
              "  </thead>\n",
              "  <tbody>\n",
              "    <tr>\n",
              "      <th>0</th>\n",
              "      <td>yes</td>\n",
              "      <td>no</td>\n",
              "      <td>2.0</td>\n",
              "      <td>0.0</td>\n",
              "      <td>Normal_Weight</td>\n",
              "      <td>24.386526</td>\n",
              "    </tr>\n",
              "    <tr>\n",
              "      <th>1</th>\n",
              "      <td>yes</td>\n",
              "      <td>no</td>\n",
              "      <td>3.0</td>\n",
              "      <td>3.0</td>\n",
              "      <td>Normal_Weight</td>\n",
              "      <td>24.238227</td>\n",
              "    </tr>\n",
              "    <tr>\n",
              "      <th>2</th>\n",
              "      <td>yes</td>\n",
              "      <td>no</td>\n",
              "      <td>2.0</td>\n",
              "      <td>2.0</td>\n",
              "      <td>Normal_Weight</td>\n",
              "      <td>23.765432</td>\n",
              "    </tr>\n",
              "    <tr>\n",
              "      <th>3</th>\n",
              "      <td>no</td>\n",
              "      <td>no</td>\n",
              "      <td>2.0</td>\n",
              "      <td>2.0</td>\n",
              "      <td>Overweight_Level_I</td>\n",
              "      <td>26.851852</td>\n",
              "    </tr>\n",
              "    <tr>\n",
              "      <th>4</th>\n",
              "      <td>no</td>\n",
              "      <td>no</td>\n",
              "      <td>2.0</td>\n",
              "      <td>0.0</td>\n",
              "      <td>Overweight_Level_II</td>\n",
              "      <td>28.342381</td>\n",
              "    </tr>\n",
              "  </tbody>\n",
              "</table>\n",
              "</div>\n",
              "    <div class=\"colab-df-buttons\">\n",
              "\n",
              "  <div class=\"colab-df-container\">\n",
              "    <button class=\"colab-df-convert\" onclick=\"convertToInteractive('df-76c916f3-8eca-49d8-8eff-7cfe46cb4ca7')\"\n",
              "            title=\"Convert this dataframe to an interactive table.\"\n",
              "            style=\"display:none;\">\n",
              "\n",
              "  <svg xmlns=\"http://www.w3.org/2000/svg\" height=\"24px\" viewBox=\"0 -960 960 960\">\n",
              "    <path d=\"M120-120v-720h720v720H120Zm60-500h600v-160H180v160Zm220 220h160v-160H400v160Zm0 220h160v-160H400v160ZM180-400h160v-160H180v160Zm440 0h160v-160H620v160ZM180-180h160v-160H180v160Zm440 0h160v-160H620v160Z\"/>\n",
              "  </svg>\n",
              "    </button>\n",
              "\n",
              "  <style>\n",
              "    .colab-df-container {\n",
              "      display:flex;\n",
              "      gap: 12px;\n",
              "    }\n",
              "\n",
              "    .colab-df-convert {\n",
              "      background-color: #E8F0FE;\n",
              "      border: none;\n",
              "      border-radius: 50%;\n",
              "      cursor: pointer;\n",
              "      display: none;\n",
              "      fill: #1967D2;\n",
              "      height: 32px;\n",
              "      padding: 0 0 0 0;\n",
              "      width: 32px;\n",
              "    }\n",
              "\n",
              "    .colab-df-convert:hover {\n",
              "      background-color: #E2EBFA;\n",
              "      box-shadow: 0px 1px 2px rgba(60, 64, 67, 0.3), 0px 1px 3px 1px rgba(60, 64, 67, 0.15);\n",
              "      fill: #174EA6;\n",
              "    }\n",
              "\n",
              "    .colab-df-buttons div {\n",
              "      margin-bottom: 4px;\n",
              "    }\n",
              "\n",
              "    [theme=dark] .colab-df-convert {\n",
              "      background-color: #3B4455;\n",
              "      fill: #D2E3FC;\n",
              "    }\n",
              "\n",
              "    [theme=dark] .colab-df-convert:hover {\n",
              "      background-color: #434B5C;\n",
              "      box-shadow: 0px 1px 3px 1px rgba(0, 0, 0, 0.15);\n",
              "      filter: drop-shadow(0px 1px 2px rgba(0, 0, 0, 0.3));\n",
              "      fill: #FFFFFF;\n",
              "    }\n",
              "  </style>\n",
              "\n",
              "    <script>\n",
              "      const buttonEl =\n",
              "        document.querySelector('#df-76c916f3-8eca-49d8-8eff-7cfe46cb4ca7 button.colab-df-convert');\n",
              "      buttonEl.style.display =\n",
              "        google.colab.kernel.accessAllowed ? 'block' : 'none';\n",
              "\n",
              "      async function convertToInteractive(key) {\n",
              "        const element = document.querySelector('#df-76c916f3-8eca-49d8-8eff-7cfe46cb4ca7');\n",
              "        const dataTable =\n",
              "          await google.colab.kernel.invokeFunction('convertToInteractive',\n",
              "                                                    [key], {});\n",
              "        if (!dataTable) return;\n",
              "\n",
              "        const docLinkHtml = 'Like what you see? Visit the ' +\n",
              "          '<a target=\"_blank\" href=https://colab.research.google.com/notebooks/data_table.ipynb>data table notebook</a>'\n",
              "          + ' to learn more about interactive tables.';\n",
              "        element.innerHTML = '';\n",
              "        dataTable['output_type'] = 'display_data';\n",
              "        await google.colab.output.renderOutput(dataTable, element);\n",
              "        const docLink = document.createElement('div');\n",
              "        docLink.innerHTML = docLinkHtml;\n",
              "        element.appendChild(docLink);\n",
              "      }\n",
              "    </script>\n",
              "  </div>\n",
              "\n",
              "\n",
              "<div id=\"df-f8b74ebc-ede3-4105-9d4d-e8a41b0cd742\">\n",
              "  <button class=\"colab-df-quickchart\" onclick=\"quickchart('df-f8b74ebc-ede3-4105-9d4d-e8a41b0cd742')\"\n",
              "            title=\"Suggest charts\"\n",
              "            style=\"display:none;\">\n",
              "\n",
              "<svg xmlns=\"http://www.w3.org/2000/svg\" height=\"24px\"viewBox=\"0 0 24 24\"\n",
              "     width=\"24px\">\n",
              "    <g>\n",
              "        <path d=\"M19 3H5c-1.1 0-2 .9-2 2v14c0 1.1.9 2 2 2h14c1.1 0 2-.9 2-2V5c0-1.1-.9-2-2-2zM9 17H7v-7h2v7zm4 0h-2V7h2v10zm4 0h-2v-4h2v4z\"/>\n",
              "    </g>\n",
              "</svg>\n",
              "  </button>\n",
              "\n",
              "<style>\n",
              "  .colab-df-quickchart {\n",
              "      --bg-color: #E8F0FE;\n",
              "      --fill-color: #1967D2;\n",
              "      --hover-bg-color: #E2EBFA;\n",
              "      --hover-fill-color: #174EA6;\n",
              "      --disabled-fill-color: #AAA;\n",
              "      --disabled-bg-color: #DDD;\n",
              "  }\n",
              "\n",
              "  [theme=dark] .colab-df-quickchart {\n",
              "      --bg-color: #3B4455;\n",
              "      --fill-color: #D2E3FC;\n",
              "      --hover-bg-color: #434B5C;\n",
              "      --hover-fill-color: #FFFFFF;\n",
              "      --disabled-bg-color: #3B4455;\n",
              "      --disabled-fill-color: #666;\n",
              "  }\n",
              "\n",
              "  .colab-df-quickchart {\n",
              "    background-color: var(--bg-color);\n",
              "    border: none;\n",
              "    border-radius: 50%;\n",
              "    cursor: pointer;\n",
              "    display: none;\n",
              "    fill: var(--fill-color);\n",
              "    height: 32px;\n",
              "    padding: 0;\n",
              "    width: 32px;\n",
              "  }\n",
              "\n",
              "  .colab-df-quickchart:hover {\n",
              "    background-color: var(--hover-bg-color);\n",
              "    box-shadow: 0 1px 2px rgba(60, 64, 67, 0.3), 0 1px 3px 1px rgba(60, 64, 67, 0.15);\n",
              "    fill: var(--button-hover-fill-color);\n",
              "  }\n",
              "\n",
              "  .colab-df-quickchart-complete:disabled,\n",
              "  .colab-df-quickchart-complete:disabled:hover {\n",
              "    background-color: var(--disabled-bg-color);\n",
              "    fill: var(--disabled-fill-color);\n",
              "    box-shadow: none;\n",
              "  }\n",
              "\n",
              "  .colab-df-spinner {\n",
              "    border: 2px solid var(--fill-color);\n",
              "    border-color: transparent;\n",
              "    border-bottom-color: var(--fill-color);\n",
              "    animation:\n",
              "      spin 1s steps(1) infinite;\n",
              "  }\n",
              "\n",
              "  @keyframes spin {\n",
              "    0% {\n",
              "      border-color: transparent;\n",
              "      border-bottom-color: var(--fill-color);\n",
              "      border-left-color: var(--fill-color);\n",
              "    }\n",
              "    20% {\n",
              "      border-color: transparent;\n",
              "      border-left-color: var(--fill-color);\n",
              "      border-top-color: var(--fill-color);\n",
              "    }\n",
              "    30% {\n",
              "      border-color: transparent;\n",
              "      border-left-color: var(--fill-color);\n",
              "      border-top-color: var(--fill-color);\n",
              "      border-right-color: var(--fill-color);\n",
              "    }\n",
              "    40% {\n",
              "      border-color: transparent;\n",
              "      border-right-color: var(--fill-color);\n",
              "      border-top-color: var(--fill-color);\n",
              "    }\n",
              "    60% {\n",
              "      border-color: transparent;\n",
              "      border-right-color: var(--fill-color);\n",
              "    }\n",
              "    80% {\n",
              "      border-color: transparent;\n",
              "      border-right-color: var(--fill-color);\n",
              "      border-bottom-color: var(--fill-color);\n",
              "    }\n",
              "    90% {\n",
              "      border-color: transparent;\n",
              "      border-bottom-color: var(--fill-color);\n",
              "    }\n",
              "  }\n",
              "</style>\n",
              "\n",
              "  <script>\n",
              "    async function quickchart(key) {\n",
              "      const quickchartButtonEl =\n",
              "        document.querySelector('#' + key + ' button');\n",
              "      quickchartButtonEl.disabled = true;  // To prevent multiple clicks.\n",
              "      quickchartButtonEl.classList.add('colab-df-spinner');\n",
              "      try {\n",
              "        const charts = await google.colab.kernel.invokeFunction(\n",
              "            'suggestCharts', [key], {});\n",
              "      } catch (error) {\n",
              "        console.error('Error during call to suggestCharts:', error);\n",
              "      }\n",
              "      quickchartButtonEl.classList.remove('colab-df-spinner');\n",
              "      quickchartButtonEl.classList.add('colab-df-quickchart-complete');\n",
              "    }\n",
              "    (() => {\n",
              "      let quickchartButtonEl =\n",
              "        document.querySelector('#df-f8b74ebc-ede3-4105-9d4d-e8a41b0cd742 button');\n",
              "      quickchartButtonEl.style.display =\n",
              "        google.colab.kernel.accessAllowed ? 'block' : 'none';\n",
              "    })();\n",
              "  </script>\n",
              "</div>\n",
              "\n",
              "    </div>\n",
              "  </div>\n"
            ],
            "application/vnd.google.colaboratory.intrinsic+json": {
              "type": "dataframe",
              "variable_name": "df",
              "summary": "{\n  \"name\": \"df\",\n  \"rows\": 2022,\n  \"fields\": [\n    {\n      \"column\": \"Family Obesity History\",\n      \"properties\": {\n        \"dtype\": \"category\",\n        \"num_unique_values\": 2,\n        \"samples\": [\n          \"no\",\n          \"yes\"\n        ],\n        \"semantic_type\": \"\",\n        \"description\": \"\"\n      }\n    },\n    {\n      \"column\": \"High Calorie Meal Freq\",\n      \"properties\": {\n        \"dtype\": \"category\",\n        \"num_unique_values\": 2,\n        \"samples\": [\n          \"yes\",\n          \"no\"\n        ],\n        \"semantic_type\": \"\",\n        \"description\": \"\"\n      }\n    },\n    {\n      \"column\": \"Daily Water Consumption\",\n      \"properties\": {\n        \"dtype\": \"number\",\n        \"std\": 0.611394951347509,\n        \"min\": 1.0,\n        \"max\": 3.0,\n        \"num_unique_values\": 1246,\n        \"samples\": [\n          2.040952,\n          1.163111\n        ],\n        \"semantic_type\": \"\",\n        \"description\": \"\"\n      }\n    },\n    {\n      \"column\": \"Weekly Physical Activity\",\n      \"properties\": {\n        \"dtype\": \"number\",\n        \"std\": 0.8448892592276935,\n        \"min\": 0.0,\n        \"max\": 3.0,\n        \"num_unique_values\": 1160,\n        \"samples\": [\n          0.348839,\n          0.045246\n        ],\n        \"semantic_type\": \"\",\n        \"description\": \"\"\n      }\n    },\n    {\n      \"column\": \"Obesity level\",\n      \"properties\": {\n        \"dtype\": \"category\",\n        \"num_unique_values\": 7,\n        \"samples\": [\n          \"Normal_Weight\",\n          \"Overweight_Level_I\"\n        ],\n        \"semantic_type\": \"\",\n        \"description\": \"\"\n      }\n    },\n    {\n      \"column\": \"BMI\",\n      \"properties\": {\n        \"dtype\": \"number\",\n        \"std\": 8.124616602534621,\n        \"min\": 12.998684889724604,\n        \"max\": 50.81175280566433,\n        \"num_unique_values\": 1921,\n        \"samples\": [\n          27.732939915042515,\n          41.308846213676674\n        ],\n        \"semantic_type\": \"\",\n        \"description\": \"\"\n      }\n    }\n  ]\n}"
            }
          },
          "metadata": {},
          "execution_count": 82
        }
      ]
    },
    {
      "cell_type": "code",
      "source": [
        "categorical = []\n",
        "numerical = []\n",
        "\n",
        "for i in df.columns:\n",
        "    if df[i].dtype == \"object\":\n",
        "        categorical.append(i)\n",
        "    else:\n",
        "        numerical.append(i)\n",
        "\n",
        "print('numerical: ',numerical)\n",
        "print('categorical: ',categorical)"
      ],
      "metadata": {
        "colab": {
          "base_uri": "https://localhost:8080/"
        },
        "id": "nFcAKukjVm1P",
        "outputId": "4f2cdb9b-be84-4924-8f6c-d232be6764d7"
      },
      "execution_count": 83,
      "outputs": [
        {
          "output_type": "stream",
          "name": "stdout",
          "text": [
            "numerical:  ['Daily Water Consumption', 'Weekly Physical Activity', 'BMI']\n",
            "categorical:  ['Family Obesity History', 'High Calorie Meal Freq', 'Obesity level']\n"
          ]
        }
      ]
    },
    {
      "cell_type": "markdown",
      "source": [
        "Detect anomalies"
      ],
      "metadata": {
        "id": "Ud6f7bTy7zoa"
      }
    },
    {
      "cell_type": "code",
      "source": [
        "def detect_anomalies_iqr(column):\n",
        "    Q1 = column.quantile(0.25)\n",
        "    Q3 = column.quantile(0.75)\n",
        "    IQR = Q3 - Q1\n",
        "    lower_bound = Q1 - 1.5 * IQR\n",
        "    upper_bound = Q3 + 1.5 * IQR\n",
        "\n",
        "    return column[(column < lower_bound) | (column > upper_bound)]"
      ],
      "metadata": {
        "id": "zvyQBGsveZ4r"
      },
      "execution_count": 84,
      "outputs": []
    },
    {
      "cell_type": "code",
      "source": [
        "water = detect_anomalies_iqr(df[\"Daily Water Consumption\"])\n",
        "print(water)"
      ],
      "metadata": {
        "colab": {
          "base_uri": "https://localhost:8080/"
        },
        "id": "K-iDYMbIegpx",
        "outputId": "baa7add8-6fe7-44ae-da65-81f52b28d552"
      },
      "execution_count": 85,
      "outputs": [
        {
          "output_type": "stream",
          "name": "stdout",
          "text": [
            "Series([], Name: Daily Water Consumption, dtype: float64)\n"
          ]
        }
      ]
    },
    {
      "cell_type": "code",
      "source": [
        "activity = detect_anomalies_iqr(df[\"Weekly Physical Activity\"])\n",
        "print(activity)"
      ],
      "metadata": {
        "colab": {
          "base_uri": "https://localhost:8080/"
        },
        "id": "Ubp9XN5beteJ",
        "outputId": "6fffabc1-670f-487a-bdba-0868c33a4bc7"
      },
      "execution_count": 86,
      "outputs": [
        {
          "output_type": "stream",
          "name": "stdout",
          "text": [
            "Series([], Name: Weekly Physical Activity, dtype: float64)\n"
          ]
        }
      ]
    },
    {
      "cell_type": "code",
      "source": [
        "bmi = detect_anomalies_iqr(df[\"BMI\"])\n",
        "print(bmi)"
      ],
      "metadata": {
        "colab": {
          "base_uri": "https://localhost:8080/"
        },
        "id": "QKDxZ9xkeuG1",
        "outputId": "d78e0717-f6e8-4662-aa1c-19f850c0d8fe"
      },
      "execution_count": 87,
      "outputs": [
        {
          "output_type": "stream",
          "name": "stdout",
          "text": [
            "Series([], Name: BMI, dtype: float64)\n"
          ]
        }
      ]
    },
    {
      "cell_type": "code",
      "source": [
        "def check_dist(df, column):\n",
        "    for i in column:\n",
        "        plt.figure(figsize=(10,2))\n",
        "        plt.subplot(1,2,1)\n",
        "        sns.histplot(df[i], bins=15)\n",
        "\n",
        "        plt.subplot(1,2,2)\n",
        "        sns.boxplot(y=df[i])\n",
        "        plt.show()\n",
        "\n",
        "check_dist(df[numerical], numerical)"
      ],
      "metadata": {
        "colab": {
          "base_uri": "https://localhost:8080/",
          "height": 668
        },
        "id": "_oazgul9f4CS",
        "outputId": "708aec8a-d1d7-40da-b667-47fd971857cd"
      },
      "execution_count": 88,
      "outputs": [
        {
          "output_type": "display_data",
          "data": {
            "text/plain": [
              "<Figure size 1000x200 with 2 Axes>"
            ],
            "image/png": "[encoded data removed]"
          },
          "metadata": {}
        },
        {
          "output_type": "display_data",
          "data": {
            "text/plain": [
              "<Figure size 1000x200 with 2 Axes>"
            ],
            "image/png": "[encoded data removed]"
          },
          "metadata": {}
        },
        {
          "output_type": "display_data",
          "data": {
            "text/plain": [
              "<Figure size 1000x200 with 2 Axes>"
            ],
            "image/png": "[encoded data removed]"
          },
          "metadata": {}
        }
      ]
    },
    {
      "cell_type": "markdown",
      "source": [
        "No anomalies!"
      ],
      "metadata": {
        "id": "3VbW_bZ375kL"
      }
    },
    {
      "cell_type": "markdown",
      "source": [
        "# B"
      ],
      "metadata": {
        "id": "zSM1nOoCgC6Q"
      }
    },
    {
      "cell_type": "markdown",
      "source": [
        "Train a Random Forest and an XGBoost model, fine-tune at least 3 of their hyperparameters with at least 3 search space and evaluate the models on an independent test set!"
      ],
      "metadata": {
        "id": "2aR9vbY4t4rn"
      }
    },
    {
      "cell_type": "code",
      "source": [
        "x = df.drop(columns=['Obesity level'])\n",
        "y = df['Obesity level']\n",
        "x_train, x_test, y_train, y_test = train_test_split(x, y, test_size = 0.2, random_state = 42)"
      ],
      "metadata": {
        "id": "R1Ki0lZmetaz"
      },
      "execution_count": 89,
      "outputs": []
    },
    {
      "cell_type": "code",
      "source": [
        "unique_obesity_levels = df[\"Obesity level\"].unique()\n",
        "unique_obesity_levels"
      ],
      "metadata": {
        "colab": {
          "base_uri": "https://localhost:8080/"
        },
        "id": "rqeZAsarnjqa",
        "outputId": "abd4a77a-eebe-489f-d266-c24b9b5478ce"
      },
      "execution_count": 90,
      "outputs": [
        {
          "output_type": "execute_result",
          "data": {
            "text/plain": [
              "array(['Normal_Weight', 'Overweight_Level_I', 'Overweight_Level_II',\n",
              "       'Obesity_Type_I', 'Insufficient_Weight', 'Obesity_Type_II',\n",
              "       'Obesity_Type_III'], dtype=object)"
            ]
          },
          "metadata": {},
          "execution_count": 90
        }
      ]
    },
    {
      "cell_type": "code",
      "source": [
        "obesity_order = ['Normal_Weight', 'Insufficient_Weight', 'Overweight_Level_I',\n",
        "                 'Overweight_Level_II', 'Obesity_Type_I', 'Obesity_Type_II', 'Obesity_Type_III']"
      ],
      "metadata": {
        "id": "xGHJ2baKnoUx"
      },
      "execution_count": 91,
      "outputs": []
    },
    {
      "cell_type": "code",
      "source": [
        "label = LabelEncoder()\n",
        "one = OneHotEncoder()\n",
        "ordinal = OrdinalEncoder(categories=[obesity_order])"
      ],
      "metadata": {
        "id": "hM125QmJkXyI"
      },
      "execution_count": 92,
      "outputs": []
    },
    {
      "source": [
        "x_train['Family Obesity History'] = label.fit_transform(x_train['Family Obesity History'])\n",
        "x_train['High Calorie Meal Freq'] = label.fit_transform(x_train['High Calorie Meal Freq'])\n",
        "x_test['Family Obesity History'] = label.transform(x_test['Family Obesity History'])\n",
        "x_test['High Calorie Meal Freq'] = label.transform(x_test['High Calorie Meal Freq'])"
      ],
      "cell_type": "code",
      "metadata": {
        "id": "_wjRvTcklIzZ"
      },
      "execution_count": 93,
      "outputs": []
    },
    {
      "cell_type": "code",
      "source": [
        "y_train = ordinal.fit_transform(y_train.values.reshape(-1, 1)).ravel()\n",
        "y_test = ordinal.transform(y_test.values.reshape(-1, 1)).ravel()"
      ],
      "metadata": {
        "id": "5cNRDPRIlqFo"
      },
      "execution_count": 94,
      "outputs": []
    },
    {
      "cell_type": "code",
      "source": [
        "scaler = StandardScaler()\n",
        "x_train = scaler.fit_transform(x_train)\n",
        "x_test = scaler.transform(x_test)"
      ],
      "metadata": {
        "id": "6qcvVaFjlqA0"
      },
      "execution_count": 95,
      "outputs": []
    },
    {
      "cell_type": "code",
      "source": [
        "rf = RandomForestClassifier()\n",
        "rf.fit(x_train, y_train)\n",
        "y_pred_rf = rf.predict(x_test)\n",
        "print(classification_report(y_test, y_pred_rf))"
      ],
      "metadata": {
        "colab": {
          "base_uri": "https://localhost:8080/"
        },
        "id": "BXvotQ55pitQ",
        "outputId": "6c9b72a2-c9e1-4ec0-e5e9-214fc9172fe0"
      },
      "execution_count": 96,
      "outputs": [
        {
          "output_type": "stream",
          "name": "stdout",
          "text": [
            "              precision    recall  f1-score   support\n",
            "\n",
            "         0.0       0.95      0.98      0.97        59\n",
            "         1.0       0.98      0.96      0.97        57\n",
            "         2.0       0.98      0.98      0.98        43\n",
            "         3.0       0.96      0.98      0.97        48\n",
            "         4.0       0.98      0.91      0.95        70\n",
            "         5.0       0.93      0.98      0.96        66\n",
            "         6.0       1.00      0.98      0.99        62\n",
            "\n",
            "    accuracy                           0.97       405\n",
            "   macro avg       0.97      0.97      0.97       405\n",
            "weighted avg       0.97      0.97      0.97       405\n",
            "\n"
          ]
        }
      ]
    },
    {
      "cell_type": "code",
      "source": [
        "xg = XGBClassifier()\n",
        "xg.fit(x_train, y_train)\n",
        "y_pred_xg = xg.predict(x_test)\n",
        "print(classification_report(y_test, y_pred_xg))"
      ],
      "metadata": {
        "colab": {
          "base_uri": "https://localhost:8080/"
        },
        "id": "avzSQFTut2JN",
        "outputId": "204f1c11-6602-42ce-858f-c1d8f71f8dc3"
      },
      "execution_count": 97,
      "outputs": [
        {
          "output_type": "stream",
          "name": "stdout",
          "text": [
            "              precision    recall  f1-score   support\n",
            "\n",
            "         0.0       0.97      0.98      0.97        59\n",
            "         1.0       0.98      0.98      0.98        57\n",
            "         2.0       0.98      0.93      0.95        43\n",
            "         3.0       0.92      0.98      0.95        48\n",
            "         4.0       0.98      0.91      0.95        70\n",
            "         5.0       0.93      0.98      0.96        66\n",
            "         6.0       1.00      0.98      0.99        62\n",
            "\n",
            "    accuracy                           0.97       405\n",
            "   macro avg       0.97      0.97      0.97       405\n",
            "weighted avg       0.97      0.97      0.97       405\n",
            "\n"
          ]
        }
      ]
    },
    {
      "cell_type": "markdown",
      "source": [
        "## Fine-tune"
      ],
      "metadata": {
        "id": "9UgPH1qawSWC"
      }
    },
    {
      "cell_type": "markdown",
      "source": [
        "Random Forest"
      ],
      "metadata": {
        "id": "2b_0_mM-1tzH"
      }
    },
    {
      "cell_type": "code",
      "source": [
        "param_grid = {\n",
        "    'n_estimators': [100, 200, 300],\n",
        "    'max_depth': [3, 5, 7],\n",
        "    'min_samples_split': [2, 10, 20],\n",
        "}\n",
        "rf = RandomForestClassifier()\n",
        "rf_search = RandomizedSearchCV(rf, param_grid, cv=5)\n",
        "rf_search.fit(x_train, y_train)\n",
        "print(\"Best parameters:\", rf_search.best_params_)"
      ],
      "metadata": {
        "colab": {
          "base_uri": "https://localhost:8080/"
        },
        "id": "jAXzve16vU8O",
        "outputId": "286a50a2-45f6-4f39-9635-80941fed6cae"
      },
      "execution_count": 98,
      "outputs": [
        {
          "output_type": "stream",
          "name": "stdout",
          "text": [
            "Best parameters: {'n_estimators': 300, 'min_samples_split': 10, 'max_depth': 7}\n"
          ]
        }
      ]
    },
    {
      "cell_type": "code",
      "source": [
        "rf_model = RandomForestClassifier(\n",
        "    n_estimators=200,\n",
        "    min_samples_split=2,\n",
        "    max_depth=7,\n",
        "    random_state=42\n",
        ")\n",
        "\n",
        "rf_model.fit(x_train, y_train)\n",
        "y_pred_rf = rf_model.predict(x_test)\n",
        "print(classification_report(y_test, y_pred_rf))"
      ],
      "metadata": {
        "colab": {
          "base_uri": "https://localhost:8080/"
        },
        "id": "iD93Oe5uwihl",
        "outputId": "59156a90-f541-4f7c-d8bc-5406d31c6939"
      },
      "execution_count": 99,
      "outputs": [
        {
          "output_type": "stream",
          "name": "stdout",
          "text": [
            "              precision    recall  f1-score   support\n",
            "\n",
            "         0.0       0.95      0.98      0.97        59\n",
            "         1.0       0.98      0.96      0.97        57\n",
            "         2.0       0.98      0.98      0.98        43\n",
            "         3.0       0.96      0.98      0.97        48\n",
            "         4.0       1.00      0.90      0.95        70\n",
            "         5.0       0.92      1.00      0.96        66\n",
            "         6.0       1.00      0.98      0.99        62\n",
            "\n",
            "    accuracy                           0.97       405\n",
            "   macro avg       0.97      0.97      0.97       405\n",
            "weighted avg       0.97      0.97      0.97       405\n",
            "\n"
          ]
        }
      ]
    },
    {
      "cell_type": "markdown",
      "source": [
        "XGBoost"
      ],
      "metadata": {
        "id": "F-dI8eiw1yfF"
      }
    },
    {
      "cell_type": "code",
      "source": [
        "param_grid_xgb = {\n",
        "    'n_estimators': [100, 200, 300],\n",
        "    'max_depth': [3, 5, 7],\n",
        "    'learning_rate': [0.01, 0.1, 0.2],\n",
        "    'subsample': [0.8, 0.9, 1.0],\n",
        "    'colsample_bytree': [0.8, 0.9, 1.0],\n",
        "    'min_child_weight': [1, 3, 5]\n",
        "}\n",
        "\n",
        "xgb = XGBClassifier(random_state=42)\n",
        "xgb_search = RandomizedSearchCV(xgb, param_grid_xgb, cv=5, n_iter=10, random_state=42)\n",
        "xgb_search.fit(x_train, y_train)\n",
        "print(\"Best parameters:\", xgb_search.best_params_)"
      ],
      "metadata": {
        "colab": {
          "base_uri": "https://localhost:8080/"
        },
        "id": "g9_Oduij10if",
        "outputId": "29897e89-3437-4e52-c8c4-7e46d80bdce8"
      },
      "execution_count": 100,
      "outputs": [
        {
          "output_type": "stream",
          "name": "stdout",
          "text": [
            "Best parameters: {'subsample': 0.8, 'n_estimators': 100, 'min_child_weight': 1, 'max_depth': 3, 'learning_rate': 0.1, 'colsample_bytree': 0.8}\n"
          ]
        }
      ]
    },
    {
      "cell_type": "code",
      "source": [
        "xgb_model = XGBClassifier(\n",
        "    n_estimators=100,\n",
        "    max_depth=3,\n",
        "    learning_rate=0.1,\n",
        "    subsample=0.8,\n",
        "    colsample_bytree=0.8,\n",
        "    min_child_weight=1,\n",
        "    random_state=42\n",
        ")\n",
        "\n",
        "xgb_model.fit(x_train, y_train)\n",
        "y_pred_xgb = xgb_model.predict(x_test)\n",
        "print(classification_report(y_test, y_pred_xgb))"
      ],
      "metadata": {
        "colab": {
          "base_uri": "https://localhost:8080/"
        },
        "id": "6H9ww1zl6cu5",
        "outputId": "bb91e03e-1ae8-4fbe-cc20-5867369cdfda"
      },
      "execution_count": 101,
      "outputs": [
        {
          "output_type": "stream",
          "name": "stdout",
          "text": [
            "              precision    recall  f1-score   support\n",
            "\n",
            "         0.0       0.98      0.98      0.98        59\n",
            "         1.0       0.98      1.00      0.99        57\n",
            "         2.0       1.00      0.93      0.96        43\n",
            "         3.0       0.92      1.00      0.96        48\n",
            "         4.0       1.00      0.91      0.96        70\n",
            "         5.0       0.93      1.00      0.96        66\n",
            "         6.0       1.00      0.98      0.99        62\n",
            "\n",
            "    accuracy                           0.97       405\n",
            "   macro avg       0.97      0.97      0.97       405\n",
            "weighted avg       0.97      0.97      0.97       405\n",
            "\n"
          ]
        }
      ]
    },
    {
      "cell_type": "markdown",
      "source": [
        "# C"
      ],
      "metadata": {
        "id": "ARaDALma7eWq"
      }
    },
    {
      "cell_type": "markdown",
      "source": [
        "Analyze the evaluation results based on at least 3 evaluation metrics and make a conclusion!"
      ],
      "metadata": {
        "id": "1B9wbNby8DGZ"
      }
    },
    {
      "cell_type": "markdown",
      "source": [
        "\n",
        "#### **Random Forest (Before and After Hyperparameter Tuning)**\n",
        "\n",
        "**Performance Metrics:**\n",
        "- Precision, high across all classes. After tuning, the model improves its precision in certain classes like Obesity Level I (class 4.0), achieving a solid **0.97** on average.\n",
        "- Recall, excellent recall with slight improvements after tuning, especially for `1.0` (Overweight Level I) and `5.0` (Obesity Level II). The recall for most classes is near perfect, with **0.98** or higher.\n",
        "- F1-Score, the model maintained consistent F1-scores. After tuning, F1-scores showed minor improvements across most classes.\n",
        "- Accuracy, the model maintained **0.97** accuracy after tuning, showing strong generalization across all classes.\n",
        "\n",
        "In short, Random Forest provided reliable predictions across obesity levels, with good precision and recall. While it performed well overall, it slightly lagged behind XGBoost in precision and recall in certain classes, particularly after tuning.\n",
        "\n",
        "---\n",
        "\n",
        "#### **XGBoost (Before and After Hyperparameter Tuning)**\n",
        "\n",
        "**Performance Metrics:**\n",
        "- Precision, XGBoost performed excellently with perfect precision (1.00) for certain classes like `1.0` (Overweight Level I) and `4.0` (Obesity Type I) after tuning.\n",
        "- Recall, the model also performed exceptionally well in recall, achieving **1.00** recall for several classes like `1.0`, `3.0`, and `5.0`. This shows that it correctly identifies nearly all instances of these classes.\n",
        "- F1-Score, the F1-score, which balances both precision and recall, was very strong, with noticeable improvements after tuning. The model showed a good balance across all classes.\n",
        "- Accuracy, the accuracy remained **0.97**, just like Random Forest, ensuring that the model generalizes well across different obesity levels.\n",
        "\n",
        "Therefore, XGBoost outperformed Random Forest in terms of precision, recall, and F1-score, especially for specific classes. Its superior performance in these metrics suggests that it is the more reliable model in this case, achieving perfect precision and recall in certain classes while maintaining high overall accuracy.\n",
        "\n",
        "---\n",
        "\n",
        "### **Conclusion/Final Thought**\n",
        "\n",
        "Both **Random Forest** and **XGBoost** performed admirably, with both models achieving high accuracy of **0.97**. However, **XGBoost** showed superior performance in terms of precision and recall, particularly for specific obesity levels. Given its enhanced performance across key metrics, **XGBoost** is recommended for predicting obesity levels in this dataset.\n",
        "\n",
        "For a more robust model, XGBoost would be the better choice, while Random Forest can still serve as a reliable fallback when computational efficiency and model simplicity are priorities."
      ],
      "metadata": {
        "id": "TB0hUb2T9uS9"
      }
    },
    {
      "cell_type": "code",
      "source": [
        "def plot_learning_curve(model, X_train, y_train, title=\"Learning Curve\"):\n",
        "    train_sizes, train_scores, test_scores = learning_curve(\n",
        "        model, X_train, y_train, cv=5, scoring=\"accuracy\", n_jobs=-1, train_sizes=[0.1, 0.2, 0.3, 0.4, 0.5, 0.6, 0.7, 0.8, 0.9, 1.0]\n",
        "    )\n",
        "\n",
        "    train_mean = train_scores.mean(axis=1)\n",
        "    test_mean = test_scores.mean(axis=1)\n",
        "    train_std = train_scores.std(axis=1)\n",
        "    test_std = test_scores.std(axis=1)\n",
        "\n",
        "    plt.figure(figsize=(10, 6))\n",
        "    plt.plot(train_sizes, train_mean, label=\"Training Accuracy\", color=\"blue\")\n",
        "    plt.plot(train_sizes, test_mean, label=\"Test Accuracy\", color=\"red\")\n",
        "    plt.fill_between(train_sizes, train_mean - train_std, train_mean + train_std, color=\"blue\", alpha=0.2)\n",
        "    plt.fill_between(train_sizes, test_mean - test_std, test_mean + test_std, color=\"red\", alpha=0.2)\n",
        "\n",
        "    plt.title(title)\n",
        "    plt.xlabel(\"Training Size\")\n",
        "    plt.ylabel(\"Accuracy\")\n",
        "    plt.legend(loc=\"best\")\n",
        "    plt.grid(True)\n",
        "    plt.show()"
      ],
      "metadata": {
        "id": "i2-_4dfGaro3"
      },
      "execution_count": 102,
      "outputs": []
    },
    {
      "cell_type": "code",
      "source": [
        "plot_learning_curve(rf_model, x_train, y_train, title=\"Random Forest Learning Curve\")"
      ],
      "metadata": {
        "colab": {
          "base_uri": "https://localhost:8080/",
          "height": 564
        },
        "id": "EAmg8h_0arDv",
        "outputId": "65e28168-551b-417a-a6ba-67605894e3e6"
      },
      "execution_count": 103,
      "outputs": [
        {
          "output_type": "display_data",
          "data": {
            "text/plain": [
              "<Figure size 1000x600 with 1 Axes>"
            ],
            "image/png": "[encoded data removed]"
          },
          "metadata": {}
        }
      ]
    },
    {
      "cell_type": "code",
      "source": [
        "plot_learning_curve(xgb_model, x_train, y_train, title=\"XG Boosting Learning Curve\")"
      ],
      "metadata": {
        "colab": {
          "base_uri": "https://localhost:8080/",
          "height": 564
        },
        "id": "4cA2jNUraq57",
        "outputId": "bf1d9c5c-0858-4a0f-dec8-54bef898cafd"
      },
      "execution_count": 104,
      "outputs": [
        {
          "output_type": "display_data",
          "data": {
            "text/plain": [
              "<Figure size 1000x600 with 1 Axes>"
            ],
            "image/png": "[encoded data removed]"
          },
          "metadata": {}
        }
      ]
    },
    {
      "cell_type": "markdown",
      "source": [
        "# D"
      ],
      "metadata": {
        "id": "jo1ZZire8gKa"
      }
    },
    {
      "cell_type": "markdown",
      "source": [
        "From the best model, analyze which features can be considered important to predict the outputs!"
      ],
      "metadata": {
        "id": "ypNiwA9q8mUL"
      }
    },
    {
      "source": [
        "feature_importances = xgb_model.feature_importances_\n",
        "features = df.drop(columns=['Obesity level']).columns\n",
        "sorted_idx = np.argsort(feature_importances)\n",
        "\n",
        "plt.barh(features[sorted_idx], feature_importances[sorted_idx])\n",
        "plt.xlabel(\"Feature Importance\")\n",
        "plt.ylabel(\"Feature\")\n",
        "plt.title(\"Feature Importances - XG Boosting (best model)\")\n",
        "plt.show()"
      ],
      "cell_type": "code",
      "metadata": {
        "colab": {
          "base_uri": "https://localhost:8080/",
          "height": 472
        },
        "id": "wP5TAYPOFQOz",
        "outputId": "2345eb7a-aed4-4a33-890e-f388205960d6"
      },
      "execution_count": 71,
      "outputs": [
        {
          "output_type": "display_data",
          "data": {
            "text/plain": [
              "<Figure size 640x480 with 1 Axes>"
            ],
            "image/png": "[encoded data removed]"
          },
          "metadata": {}
        }
      ]
    },
    {
      "cell_type": "markdown",
      "source": [
        "# E"
      ],
      "metadata": {
        "id": "maS0Fviq8obn"
      }
    },
    {
      "cell_type": "markdown",
      "source": [
        "Make a presentation video explaining the key points of your analysis (max. 5 minutes)!\n",
        "\n",
        "\n",
        "*   https://youtu.be/uh5HemBCyYg?feature=shared\n",
        "*   https://drive.google.com/drive/u/0/folders/1vpmBEgXSW1db6QL8k12_NS79kDqQAIVr\n"
      ],
      "metadata": {
        "id": "BRulda4D8p1v"
      }
    }
  ]
}